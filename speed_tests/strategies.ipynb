{
 "metadata": {
  "language_info": {
   "codemirror_mode": {
    "name": "ipython",
    "version": 3
   },
   "file_extension": ".py",
   "mimetype": "text/x-python",
   "name": "python",
   "nbconvert_exporter": "python",
   "pygments_lexer": "ipython3",
   "version": "3.9.1-final"
  },
  "orig_nbformat": 2,
  "kernelspec": {
   "name": "python3",
   "display_name": "Python 3.9.1 64-bit",
   "metadata": {
    "interpreter": {
     "hash": "bb7454d60430467b1f82dfd04f74237d17a65a590f54a382bcff80d33fa53c0f"
    }
   }
  }
 },
 "nbformat": 4,
 "nbformat_minor": 2,
 "cells": [
  {
   "cell_type": "code",
   "execution_count": 4,
   "metadata": {},
   "outputs": [],
   "source": [
    "from webhook import webhook\n",
    "from fast_bitrix24 import BitrixAsync\n",
    "from asyncio import sleep\n",
    "\n",
    "bx_respect = BitrixAsync(webhook, respect_velocity_policy=True)\n",
    "bx_ignore = BitrixAsync(webhook, respect_velocity_policy=False)"
   ]
  },
  {
   "cell_type": "code",
   "execution_count": 2,
   "metadata": {},
   "outputs": [
    {
     "output_type": "stream",
     "name": "stderr",
     "text": [
      "100%|██████████| 41537/41537 [00:02<00:00, 15867.88it/s]\n",
      "100%|██████████| 41537/41537 [00:02<00:00, 17339.36it/s]\n"
     ]
    }
   ],
   "source": [
    "respect = await bx_respect.get_all('crm.lead.list', params={'select': ['ID', 'STAGE_ID']})\n",
    "ignore = await bx_ignore.get_all('crm.lead.list', params={'select': ['ID', 'STAGE_ID']})"
   ]
  },
  {
   "cell_type": "code",
   "execution_count": 5,
   "metadata": {},
   "outputs": [
    {
     "output_type": "stream",
     "name": "stderr",
     "text": [
      "100%|██████████| 41537/41537 [00:02<00:00, 16508.91it/s]\n",
      "100%|██████████| 41537/41537 [00:02<00:00, 18052.08it/s]\n"
     ]
    }
   ],
   "source": [
    "# а теперь дадим пулу восстановиться и попробуем запустить тест в обратном порядке\n",
    "await sleep(25)\n",
    "ignore = await bx_ignore.get_all('crm.lead.list', params={'select': ['ID', 'STAGE_ID']})\n",
    "respect = await bx_respect.get_all('crm.lead.list', params={'select': ['ID', 'STAGE_ID']})"
   ]
  },
  {
   "cell_type": "code",
   "execution_count": 2,
   "metadata": {},
   "outputs": [
    {
     "output_type": "stream",
     "name": "stderr",
     "text": [
      "100%|██████████| 41537/41537 [06:46<00:00, 102.21it/s]\n",
      "100%|██████████| 41537/41537 [00:23<00:00, 1745.43it/s]\n"
     ]
    }
   ],
   "source": [
    "respect = await bx_respect.list_and_get('crm.lead')\n",
    "ignore = await bx_ignore.list_and_get('crm.lead')"
   ]
  }
 ]
}